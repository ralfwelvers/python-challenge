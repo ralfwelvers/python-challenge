{
 "cells": [
  {
   "cell_type": "code",
   "execution_count": 28,
   "metadata": {},
   "outputs": [],
   "source": [
    "# Ralf Welvers\n",
    "# Module 3 homework - PyBank\n",
    "# OS: MacOS Ventura 13.3.1 (a)\n",
    "\n",
    "import os\n",
    "import csv\n",
    "\n",
    "budget_data_csv = os.path.join(\"Resources\", \"budget_data.csv\")\n"
   ]
  },
  {
   "cell_type": "code",
   "execution_count": 29,
   "metadata": {},
   "outputs": [
    {
     "name": "stdout",
     "output_type": "stream",
     "text": [
      "\n",
      "Financial Analysis\n",
      "\n",
      "----------------------------\n",
      "\n",
      "Total Months: 86\n",
      "\n",
      "Total: $22564198\n",
      "\n",
      "Average Change: $-8311.11\n",
      "\n",
      "Greatest Increase in Profits: Aug-16 ($1862002)\n",
      "\n",
      "Greatest Decrease in Profits: Feb-14 ($-1825558)\n"
     ]
    }
   ],
   "source": [
    "# open and read csv\n",
    "result = {}\n",
    "change = {}\n",
    "with open(budget_data_csv) as file:\n",
    "        csv_reader = csv.reader(file, delimiter=\",\")\n",
    "        headers = next(csv_reader)  # Read the header row\n",
    "\n",
    "        for row in csv_reader:\n",
    "            key = row[0]  # Assuming the first column contains the key\n",
    "            values = int(row[1])  # Remaining column contains the value\n",
    "            result[key] = values\n",
    "\n",
    "value_previous = list(result.values())[0]\n",
    "# print(value_compare)\n",
    "\n",
    "dict_len = len(result)\n",
    "# loop through the values and calculate each change. store in a new dictionary\n",
    "for x in range(1,dict_len):\n",
    "    key_grab = str(list(result)[x])\n",
    "    value_next = list(result.values())[x]\n",
    "    change_value = value_next - value_previous\n",
    "    change[key_grab] = change_value\n",
    "    value_previous = value_next\n",
    "\n",
    "# output to terminal\n",
    "print()\n",
    "print(\"Financial Analysis\")\n",
    "print()\n",
    "print(\"----------------------------\")\n",
    "print()\n",
    "print(\"Total Months:\", len(result))\n",
    "print()\n",
    "print(\"Total: $\" + str(sum(result.values())))\n",
    "print()\n",
    "average_change = sum(change.values())/len(change)\n",
    "print(\"Average Change: ${:.2f}\".format(average_change))\n",
    "print()\n",
    "print(\"Greatest Increase in Profits: \" + str(list(change.keys())\n",
    "      [list(change.values()).index(max(change.values()))])+\" ($\"+str(max(change.values()))+\")\")\n",
    "print()\n",
    "print(\"Greatest Decrease in Profits: \" + str(list(change.keys())\n",
    "      [list(change.values()).index(min(change.values()))])+\" ($\"+str(min(change.values()))+\")\")\n"
   ]
  },
  {
   "cell_type": "code",
   "execution_count": 30,
   "metadata": {},
   "outputs": [],
   "source": [
    "# output to text file\n",
    "output = os.path.join(\"analysis\", \"budget_output.txt\")\n",
    "with open(output, 'w') as output_file:\n",
    "\n",
    "    output_file.write(\"\\n\")\n",
    "    output_file.write(\"Financial Analysis\")\n",
    "    output_file.write(\"\\n\\n\")\n",
    "    output_file.write(\"----------------------------\")\n",
    "    output_file.write(\"\\n\\n\")\n",
    "    output_file.write(\"Total Months: \"+ str(len(result)))\n",
    "    output_file.write(\"\\n\\n\")\n",
    "    output_file.write(\"Total: $\" + str(sum(result.values())))\n",
    "    output_file.write(\"\\n\\n\")\n",
    "    output_file.write(\"Average Change: ${:.2f}\".format(average_change))\n",
    "    output_file.write(\"\\n\\n\")\n",
    "    output_file.write(\"Greatest Increase in Profits: \" + str(list(change.keys())\n",
    "      [list(change.values()).index(max(change.values()))])+\" ($\"+str(max(change.values()))+\")\")\n",
    "    output_file.write(\"\\n\\n\")\n",
    "    output_file.write(\"Greatest Decrease in Profits: \" + str(list(change.keys())\n",
    "      [list(change.values()).index(min(change.values()))])+\" ($\"+str(min(change.values()))+\")\")\n",
    "  \n"
   ]
  }
 ],
 "metadata": {
  "kernelspec": {
   "display_name": "dev",
   "language": "python",
   "name": "python3"
  },
  "language_info": {
   "codemirror_mode": {
    "name": "ipython",
    "version": 3
   },
   "file_extension": ".py",
   "mimetype": "text/x-python",
   "name": "python",
   "nbconvert_exporter": "python",
   "pygments_lexer": "ipython3",
   "version": "3.10.11"
  },
  "orig_nbformat": 4
 },
 "nbformat": 4,
 "nbformat_minor": 2
}
