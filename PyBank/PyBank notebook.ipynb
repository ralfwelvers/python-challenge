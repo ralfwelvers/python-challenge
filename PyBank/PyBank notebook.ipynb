{
 "cells": [
  {
   "cell_type": "code",
   "execution_count": 7,
   "metadata": {},
   "outputs": [],
   "source": [
    "# Ralf Welvers\n",
    "# Module 3 homework - PyBank\n",
    "# OS: MacOS Ventura 13.3.1 (a)\n",
    "\n",
    "import os\n",
    "import csv\n",
    "\n",
    "budget_data_csv = os.path.join(\"Resources\", \"budget_data.csv\")\n"
   ]
  },
  {
   "cell_type": "code",
   "execution_count": 8,
   "metadata": {},
   "outputs": [
    {
     "name": "stdout",
     "output_type": "stream",
     "text": [
      "\n",
      "Financial Analysis\n",
      "\n",
      "----------------------------\n",
      "\n",
      "Total Months: 86\n",
      "\n",
      "Total: $22564198\n",
      "\n",
      "Average Change: $262374\n",
      "\n",
      "Greatest Increase in Profits: Mar-13 ($1141840)\n",
      "\n",
      "Greatest Decrease in Profits: Dec-10 ($-1194133)\n",
      "\n"
     ]
    }
   ],
   "source": [
    "\n",
    "# open and read csv\n",
    "result = {}\n",
    "with open(budget_data_csv) as file:\n",
    "        csv_reader = csv.reader(file, delimiter=\",\")\n",
    "        headers = next(csv_reader)  # Read the header row\n",
    "        for row in csv_reader:\n",
    "            key = row[0]  # Assuming the first column contains the key\n",
    "            values = int(row[1])  # Remaining column contains the value\n",
    "            result[key] = values\n",
    "\n",
    "# output to terminal\n",
    "print()\n",
    "print(\"Financial Analysis\")\n",
    "print()\n",
    "print(\"----------------------------\")\n",
    "print()\n",
    "print(\"Total Months:\", len(result))\n",
    "print()\n",
    "print(\"Total: $\" + str(sum(result.values())))\n",
    "print()\n",
    "print(\"Average Change: $\" + str(int(sum(result.values())/len(result))))\n",
    "print()\n",
    "print(\"Greatest Increase in Profits: \" + str(list(result.keys())\n",
    "      [list(result.values()).index(max(result.values()))])+\" ($\"+str(max(result.values()))+\")\")\n",
    "print()\n",
    "print(\"Greatest Decrease in Profits: \" + str(list(result.keys())\n",
    "      [list(result.values()).index(min(result.values()))])+\" ($\"+str(min(result.values()))+\")\")\n",
    "print()\n"
   ]
  },
  {
   "cell_type": "code",
   "execution_count": 9,
   "metadata": {},
   "outputs": [],
   "source": [
    "# output to text file\n",
    "output = os.path.join(\"analysis\", \"budget_output.txt\")\n",
    "with open(output, 'w') as output_file:\n",
    "\n",
    "    output_file.write(\"\\n\")\n",
    "    output_file.write(\"Financial Analysis\")\n",
    "    output_file.write(\"\\n\\n\")\n",
    "    output_file.write(\"----------------------------\")\n",
    "    output_file.write(\"\\n\\n\")\n",
    "    output_file.write(\"Total Months: \"+ str(len(result)))\n",
    "    output_file.write(\"\\n\\n\")\n",
    "    output_file.write(\"Total: $\" + str(sum(result.values())))\n",
    "    output_file.write(\"\\n\\n\")\n",
    "    output_file.write(\"Average Change: $\" + str(int(sum(result.values())/len(result))))\n",
    "    output_file.write(\"\\n\\n\")\n",
    "    output_file.write(\"Greatest Increase in Profits: \" + str(list(result.keys())\n",
    "        [list(result.values()).index(max(result.values()))])+\" ($\"+str(max(result.values()))+\")\")\n",
    "    output_file.write(\"\\n\\n\")\n",
    "    output_file.write(\"Greatest Decrease in Profits: \" + str(list(result.keys())\n",
    "        [list(result.values()).index(min(result.values()))])+\" ($\"+str(min(result.values()))+\")\")\n",
    "    output_file.write(\"\\n\\n\")\n"
   ]
  }
 ],
 "metadata": {
  "kernelspec": {
   "display_name": "dev",
   "language": "python",
   "name": "python3"
  },
  "language_info": {
   "codemirror_mode": {
    "name": "ipython",
    "version": 3
   },
   "file_extension": ".py",
   "mimetype": "text/x-python",
   "name": "python",
   "nbconvert_exporter": "python",
   "pygments_lexer": "ipython3",
   "version": "3.10.11"
  },
  "orig_nbformat": 4
 },
 "nbformat": 4,
 "nbformat_minor": 2
}
