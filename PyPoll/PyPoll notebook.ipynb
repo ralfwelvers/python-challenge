{
 "cells": [
  {
   "cell_type": "code",
   "execution_count": 7,
   "metadata": {},
   "outputs": [],
   "source": [
    "# Ralf Welvers\n",
    "# Module 3 homework - PyPoll\n",
    "# OS: MacOS Ventura 13.3.1 (a)\n",
    "\n",
    "import os\n",
    "import csv\n",
    "\n",
    "election_data_csv = os.path.join(\"Resources\", \"election_data.csv\")\n"
   ]
  },
  {
   "cell_type": "code",
   "execution_count": 8,
   "metadata": {},
   "outputs": [
    {
     "name": "stdout",
     "output_type": "stream",
     "text": [
      "\n",
      "Election Results\n",
      "\n",
      "-------------------------\n",
      "\n",
      "Total Votes: 369711\n",
      "\n",
      "-------------------------\n",
      "\n",
      "Charles Casper Stockham: 23.049% (85213)\n",
      "\n",
      "Diana DeGette: 73.812% (272892)\n",
      "\n",
      "Raymon Anthony Doane: 3.139% (11606)\n",
      "\n",
      "-------------------------\n",
      "\n",
      "Winner: Diana DeGette\n",
      "\n",
      "-------------------------\n",
      "\n"
     ]
    }
   ],
   "source": [
    "\n",
    "# open and read csv\n",
    "result = []\n",
    "with open(election_data_csv, 'r') as file:\n",
    "        csv_reader = csv.reader(file)\n",
    "        headers = next(csv_reader)  # Read the header row\n",
    "        for row in csv_reader:\n",
    "            result.append(row[2]) # only need to grab the names\n",
    "\n",
    "from collections import Counter\n",
    "\n",
    "# count the votes\n",
    "count_votes = dict(Counter(result))\n",
    "total_votes=sum(count_votes.values())\n",
    "\n",
    "# output to terminal\n",
    "print()\n",
    "print(\"Election Results\")\n",
    "print()\n",
    "print(\"-------------------------\")\n",
    "print()\n",
    "print(\"Total Votes: \" + str(total_votes))\n",
    "print()\n",
    "print(\"-------------------------\")\n",
    "print()\n",
    "\n",
    "for k,v in count_votes.items():\n",
    "    percent_total = v / total_votes\n",
    "    print(k + \": \" + str(format(percent_total, '.3%')) + \" (\" + str(v) + \")\")\n",
    "    print()\n",
    "\n",
    "print(\"-------------------------\")\n",
    "print()\n",
    "print(\"Winner: \" + str(list(count_votes.keys())\n",
    "      [list(count_votes.values()).index(max(count_votes.values()))]))\n",
    "print()\n",
    "print(\"-------------------------\")\n",
    "print()"
   ]
  },
  {
   "cell_type": "code",
   "execution_count": 9,
   "metadata": {},
   "outputs": [],
   "source": [
    "# output to text file\n",
    "output = os.path.join(\"analysis\", \"election_output.txt\")\n",
    "with open(output, 'w') as output_file:\n",
    "    \n",
    "    output_file.write(\"\\n\\n\")\n",
    "    output_file.write(\"Election Results\")\n",
    "    output_file.write(\"\\n\\n\")\n",
    "    output_file.write(\"-------------------------\")\n",
    "    output_file.write(\"\\n\\n\")\n",
    "    output_file.write(\"Total Votes: \" + str(total_votes))\n",
    "    output_file.write(\"\\n\\n\")\n",
    "    output_file.write(\"-------------------------\")\n",
    "    output_file.write(\"\\n\\n\")\n",
    "\n",
    "    for k,v in count_votes.items():\n",
    "        percent_total = v / total_votes\n",
    "        output_file.write(k + \": \" + str(format(percent_total, '.3%')) + \" (\" + str(v) + \")\")\n",
    "        output_file.write(\"\\n\\n\")\n",
    "\n",
    "    output_file.write(\"-------------------------\")\n",
    "    output_file.write(\"\\n\\n\")\n",
    "    output_file.write(\"Winner: \" + str(list(count_votes.keys())\n",
    "        [list(count_votes.values()).index(max(count_votes.values()))]))\n",
    "    output_file.write(\"\\n\\n\")\n",
    "    output_file.write(\"-------------------------\")\n",
    "    output_file.write(\"\\n\\n\")"
   ]
  }
 ],
 "metadata": {
  "kernelspec": {
   "display_name": "dev",
   "language": "python",
   "name": "python3"
  },
  "language_info": {
   "codemirror_mode": {
    "name": "ipython",
    "version": 3
   },
   "file_extension": ".py",
   "mimetype": "text/x-python",
   "name": "python",
   "nbconvert_exporter": "python",
   "pygments_lexer": "ipython3",
   "version": "3.10.11"
  },
  "orig_nbformat": 4
 },
 "nbformat": 4,
 "nbformat_minor": 2
}
